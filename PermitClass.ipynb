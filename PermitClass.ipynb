{
  "nbformat": 4,
  "nbformat_minor": 0,
  "metadata": {
    "colab": {
      "provenance": [],
      "authorship_tag": "ABX9TyPKPvoEaLAuXwFwnGW8yK4Q",
      "include_colab_link": true
    },
    "kernelspec": {
      "name": "python3",
      "display_name": "Python 3"
    },
    "language_info": {
      "name": "python"
    }
  },
  "cells": [
    {
      "cell_type": "markdown",
      "metadata": {
        "id": "view-in-github",
        "colab_type": "text"
      },
      "source": [
        "<a href=\"https://colab.research.google.com/github/ThesanR/TorontoPermitClassification/blob/main/PermitClass.ipynb\" target=\"_parent\"><img src=\"https://colab.research.google.com/assets/colab-badge.svg\" alt=\"Open In Colab\"/></a>"
      ]
    },
    {
      "cell_type": "code",
      "source": [
        "#2015 Cleared Permits\n",
        "!wget -q https://ckan0.cf.opendata.inter.prod-toronto.ca/dataset/building-permits-cleared-permits/resource/fbceeefc-a24d-43d0-8009-a1ec872550d0/download/Cleared%20Permits%202015.zip\n",
        "!unzip -q \"Cleared Permits 2015.zip\"\n",
        "#2016 Cleared Permits\n",
        "!wget -q https://ckan0.cf.opendata.inter.prod-toronto.ca/dataset/building-permits-cleared-permits/resource/b6f1907e-5a45-43f7-8c3c-56e4edc4f42f/download/Cleared%20Permits%202016.zip\n",
        "!unzip -q \"Cleared Permits 2016.zip\"\n",
        "#2017-2023 Cleared Permits\n",
        "!wget -q https://ckan0.cf.opendata.inter.prod-toronto.ca/dataset/building-permits-cleared-permits/resource/23de66da-ed1a-434a-a0fa-d85ec55f8f20/download/Cleared%20Building%20Permits%20since%202017.csv\n",
        "#Active Permits\n",
        "!wget -q https://ckan0.cf.opendata.inter.prod-toronto.ca/dataset/108c2bd1-6945-46f6-af92-02f5658ee7f7/resource/dfce3b7b-4f17-4a9d-9155-5e390a5ffa97/download/building-permits-active-permits.csv"
      ],
      "metadata": {
        "id": "xdfxzjjgAoK_"
      },
      "execution_count": null,
      "outputs": []
    },
    {
      "cell_type": "markdown",
      "source": [
        "Classification of Permit applications from the City of Toronto between the years 2000 and 2023."
      ],
      "metadata": {
        "id": "aQGvmwjk-SUB"
      }
    },
    {
      "cell_type": "code",
      "execution_count": null,
      "metadata": {
        "id": "0WuInobz-I2Z"
      },
      "outputs": [],
      "source": [
        "import pandas as pd\n",
        "import numpy as np\n",
        "\n",
        "df2015 = pd.read_csv('clearedpermits2015.csv', dtype={\"POSTAL\": str, \"REVISION_NUM\": str})\n",
        "df2016 = pd.read_csv('clearedpermits2016.csv', dtype={\"POSTAL\": str, \"REVISION_NUM\": str})\n",
        "df2017_2023 = pd.read_csv('Cleared Building Permits since 2017.csv', dtype={\"POSTAL\": str, \"REVISION_NUM\": str})\n",
        "df = pd.concat([df2015, df2016, df2017_2023], ignore_index=True, sort=False)\n",
        "df = df.drop(df[(df.POSTAL == \"   \") | (df.EST_CONST_COST == \"DO NOT UPDATE OR DELETE THIS INFO FIELD\") | (df.STATUS != \"Closed\")].index)\n",
        "df = df[['PERMIT_NUM', 'PERMIT_TYPE', 'STRUCTURE_TYPE', 'WORK', 'POSTAL', 'APPLICATION_DATE', 'ISSUED_DATE', 'EST_CONST_COST']]\n",
        "df = df.dropna()\n",
        "\n",
        "#df['EST_CONST_COST'] = ((df['EST_CONST_COST'].replace(\",\",\"\", regex=True)).astype(float)).astype(int)\n",
        "dftemp = ((df['EST_CONST_COST'].replace(\",\",\"\", regex=True)).astype(float)).astype(int)\n",
        "df = df.drop('EST_CONST_COST', axis=1)\n",
        "df = pd.concat([df, dftemp], axis=1)\n",
        "df = df.drop(df[df.EST_CONST_COST < 100].index)\n",
        "\n",
        "df = df[~df['PERMIT_TYPE'].isin((df['PERMIT_TYPE'].value_counts())[(df['PERMIT_TYPE'].value_counts()) < 500].index)]\n",
        "df = df[~df['WORK'].isin((df['WORK'].value_counts())[(df['WORK'].value_counts()) < 1000].index)]\n",
        "df = df[~df['STRUCTURE_TYPE'].isin((df['STRUCTURE_TYPE'].value_counts())[(df['STRUCTURE_TYPE'].value_counts()) < 500].index)]\n",
        "df = df[~df['PERMIT_NUM'].isin((df['PERMIT_NUM'].value_counts())[(df['PERMIT_NUM'].value_counts()) > 1].index)]\n",
        "\n",
        "#print(df.PERMIT_NUM.value_counts(), \"\\n\")\n",
        "#print(df.POSTAL.value_counts(), \"\\n\")\n",
        "#print(df.PERMIT_TYPE.value_counts(), \"\\n\")\n",
        "#print(df.WORK.value_counts(),\"\\n\")\n",
        "#print(df.STRUCTURE_TYPE.value_counts(), \"\\n\")"
      ]
    },
    {
      "cell_type": "code",
      "source": [
        "pd.set_option('display.max_rows', None)\n",
        "\n",
        "perm_num_temp = 2000 + (df['PERMIT_NUM'].astype(str).str[0:2]).astype(int)\n",
        "perm_num_temp = perm_num_temp - 100*(perm_num_temp > 2050)\n",
        "app_num_temp = (df['APPLICATION_DATE'].astype(str).str[0:4]).astype(int)\n",
        "app_year = perm_num_temp*(perm_num_temp == app_num_temp)\n",
        "#drop under 2010 years please\n",
        "\n",
        "app_datetime = pd.to_datetime(pd.DataFrame({'year' : df['APPLICATION_DATE'].astype(str).str[0:4], 'month' : df['APPLICATION_DATE'].astype(str).str[5:7], 'day' : df['APPLICATION_DATE'].astype(str).str[8:10]}))\n",
        "issue_datetime = pd.to_datetime(pd.DataFrame({'year' : df['ISSUED_DATE'].astype(str).str[0:4], 'month' : df['ISSUED_DATE'].astype(str).str[5:7], 'day' : df['ISSUED_DATE'].astype(str).str[8:10]}))\n",
        "app_time = pd.to_timedelta((issue_datetime - app_datetime), unit='d')\n",
        "app_time = pd.DataFrame({'TIME_DAYS' : (app_time.astype(str).str[0:-5]).astype(int)})\n",
        "#drop negatives please\n",
        "\n",
        "app_time1 = app_time.astype(str)\n",
        "app_time1['TIME_DAYS'] = pd.cut(x=app_time['TIME_DAYS'], bins=[0, 3, 7, 14, 31, 61, 91, 183, 274, 365, 730, 1095, float(\"inf\")],\n",
        "                                labels=['0-3 DAYS', '4-7 DAYS', '1-2 WEEKS', '3-4 WEEKS', '1-2 MONTHS', '2-3 MONTHS', '3-6 MONTHS', '6-9 MONTHS', '9-12 MONTHS', '1-2 YEARS', '2-3 YEARS', 'OVER 3 YEARS'],\n",
        "                                include_lowest=True)\n",
        "\n",
        "#app_time1\n",
        "#app_time1['TIME_DAYS'].isna().sum()\n",
        "print(app_time1.value_counts(), \"\\n\")\n",
        "#df"
      ],
      "metadata": {
        "id": "I1aim-Iwd_X7",
        "outputId": "5ab2392a-4ac2-4812-e6e5-8fe37257b08e",
        "colab": {
          "base_uri": "https://localhost:8080/"
        }
      },
      "execution_count": 86,
      "outputs": [
        {
          "output_type": "stream",
          "name": "stdout",
          "text": [
            "TIME_DAYS   \n",
            "3-4 WEEKS       20734\n",
            "1-2 MONTHS      14710\n",
            "1-2 WEEKS       12856\n",
            "4-7 DAYS         7551\n",
            "0-3 DAYS         5803\n",
            "2-3 MONTHS       5233\n",
            "3-6 MONTHS       5175\n",
            "6-9 MONTHS       1957\n",
            "1-2 YEARS        1283\n",
            "9-12 MONTHS      1087\n",
            "2-3 YEARS         510\n",
            "OVER 3 YEARS      326\n",
            "dtype: int64 \n",
            "\n"
          ]
        }
      ]
    }
  ]
}