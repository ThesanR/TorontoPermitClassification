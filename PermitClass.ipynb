{
  "nbformat": 4,
  "nbformat_minor": 0,
  "metadata": {
    "colab": {
      "provenance": [],
      "authorship_tag": "ABX9TyN+jtSaEavruG538fmcb0ae",
      "include_colab_link": true
    },
    "kernelspec": {
      "name": "python3",
      "display_name": "Python 3"
    },
    "language_info": {
      "name": "python"
    }
  },
  "cells": [
    {
      "cell_type": "markdown",
      "metadata": {
        "id": "view-in-github",
        "colab_type": "text"
      },
      "source": [
        "<a href=\"https://colab.research.google.com/github/ThesanR/TorontoPermitClassification/blob/main/PermitClass.ipynb\" target=\"_parent\"><img src=\"https://colab.research.google.com/assets/colab-badge.svg\" alt=\"Open In Colab\"/></a>"
      ]
    },
    {
      "cell_type": "code",
      "source": [
        "#2015 Cleared Permits\n",
        "!wget -q https://ckan0.cf.opendata.inter.prod-toronto.ca/dataset/building-permits-cleared-permits/resource/fbceeefc-a24d-43d0-8009-a1ec872550d0/download/Cleared%20Permits%202015.zip\n",
        "!unzip -q \"Cleared Permits 2015.zip\"\n",
        "#2016 Cleared Permits\n",
        "!wget -q https://ckan0.cf.opendata.inter.prod-toronto.ca/dataset/building-permits-cleared-permits/resource/b6f1907e-5a45-43f7-8c3c-56e4edc4f42f/download/Cleared%20Permits%202016.zip\n",
        "!unzip -q \"Cleared Permits 2016.zip\"\n",
        "#2017-2023 Cleared Permits\n",
        "!wget -q https://ckan0.cf.opendata.inter.prod-toronto.ca/dataset/building-permits-cleared-permits/resource/23de66da-ed1a-434a-a0fa-d85ec55f8f20/download/Cleared%20Building%20Permits%20since%202017.csv\n",
        "#Active Permits\n",
        "!wget -q https://ckan0.cf.opendata.inter.prod-toronto.ca/dataset/108c2bd1-6945-46f6-af92-02f5658ee7f7/resource/dfce3b7b-4f17-4a9d-9155-5e390a5ffa97/download/building-permits-active-permits.csv"
      ],
      "metadata": {
        "id": "xdfxzjjgAoK_"
      },
      "execution_count": null,
      "outputs": []
    },
    {
      "cell_type": "markdown",
      "source": [
        "Classification of Permit applications from the City of Toronto between the years 2000 and 2023."
      ],
      "metadata": {
        "id": "aQGvmwjk-SUB"
      }
    },
    {
      "cell_type": "code",
      "execution_count": 185,
      "metadata": {
        "id": "0WuInobz-I2Z",
        "colab": {
          "base_uri": "https://localhost:8080/"
        },
        "outputId": "daca4145-d1e8-4407-f48d-5521935e925e"
      },
      "outputs": [
        {
          "output_type": "stream",
          "name": "stdout",
          "text": [
            "       558\n",
            "M2N    309\n",
            "M5H    256\n",
            "M6G    254\n",
            "M5V    213\n",
            "M9W    210\n",
            "M4W    200\n",
            "M4J    197\n",
            "M4C    196\n",
            "M5R    195\n",
            "M5M    194\n",
            "M6H    193\n",
            "M6A    189\n",
            "M6S    189\n",
            "M6J    187\n",
            "M4E    182\n",
            "M4L    178\n",
            "M4K    161\n",
            "M1P    157\n",
            "M6E    155\n",
            "M6R    152\n",
            "M9C    152\n",
            "M4M    149\n",
            "M9B    143\n",
            "M5G    143\n",
            "M8Z    140\n",
            "M4G    137\n",
            "M5J    135\n",
            "M6P    135\n",
            "M9A    134\n",
            "M1M    124\n",
            "M2M    123\n",
            "M4V    120\n",
            "M3H    120\n",
            "M4S    120\n",
            "M5A    119\n",
            "M1J    117\n",
            "M6C    114\n",
            "M6M    113\n",
            "M8W    113\n",
            "M5S    112\n",
            "M8V    109\n",
            "M3B    109\n",
            "M6N    108\n",
            "M5C    103\n",
            "M4N     96\n",
            "M1R     96\n",
            "M6K     95\n",
            "M5P     93\n",
            "M2J     92\n",
            "M4B     92\n",
            "M8Y     91\n",
            "M6B     89\n",
            "M1L     89\n",
            "M8X     88\n",
            "M4T     88\n",
            "M5T     87\n",
            "M4P     86\n",
            "M3A     85\n",
            "M1S     82\n",
            "M1N     82\n",
            "M5N     80\n",
            "M2R     78\n",
            "M1B     76\n",
            "M1E     75\n",
            "M4R     70\n",
            "M3C     69\n",
            "M5B     67\n",
            "M1K     66\n",
            "M1V     60\n",
            "M2P     60\n",
            "M9N     59\n",
            "M1H     57\n",
            "M9L     55\n",
            "M3J     53\n",
            "M2K     48\n",
            "M4Y     48\n",
            "M1C     48\n",
            "M5E     48\n",
            "M1T     47\n",
            "M9M     46\n",
            "M2H     46\n",
            "M9V     46\n",
            "M3L     45\n",
            "M1W     43\n",
            "M6L     42\n",
            "M9P     41\n",
            "M9R     38\n",
            "M3M     38\n",
            "M2L     35\n",
            "M4X     31\n",
            "M4A     29\n",
            "M3N     26\n",
            "M1G     23\n",
            "M1X     20\n",
            "M5X     11\n",
            "M3K     10\n",
            "M7A      9\n",
            "M4H      7\n",
            "Name: POSTAL, dtype: int64 \n",
            "\n"
          ]
        }
      ],
      "source": [
        "import pandas as pd\n",
        "import numpy as np\n",
        "\n",
        "df = pd.read_csv('clearedpermits2016.csv', dtype={\"POSTAL\": str, \"REVISION_NUM\": str})\n",
        "df = df.drop(df[(df.EST_CONST_COST == \"DO NOT UPDATE OR DELETE THIS INFO FIELD\") | (df.STATUS != \"Closed\")].index)\n",
        "df = df.drop(df.columns[[1, 5, 6, 7, 8, 10, 11, 14, 15, 16, 17, 18, 19, 20, 22, 23, 24, 25, 26, 27, 28, 29]], axis=1)\n",
        "df = df.dropna()\n",
        "pd.set_option('display.max_rows', None)\n",
        "df = df[~df['PERMIT_TYPE'].isin((df['PERMIT_TYPE'].value_counts())[(df['PERMIT_TYPE'].value_counts()) < 100].index)]\n",
        "df = df[~df['WORK'].isin((df['WORK'].value_counts())[(df['WORK'].value_counts()) < 100].index)]\n",
        "df = df[~df['STRUCTURE_TYPE'].isin((df['STRUCTURE_TYPE'].value_counts())[(df['STRUCTURE_TYPE'].value_counts()) < 100].index)]\n",
        "df['EST_CONST_COST'] = df['EST_CONST_COST'].replace(\",\",\"\", regex=True)\n",
        "df['EST_CONST_COST'] = df['EST_CONST_COST'].astype(float)\n",
        "df['EST_CONST_COST'] = df['EST_CONST_COST'].astype(int)\n",
        "df = df.drop(df[df.EST_CONST_COST < 1].index)\n",
        "print(df.POSTAL.value_counts(), \"\\n\")\n",
        "#print(df.PERMIT_TYPE.value_counts(), \"\\n\")\n",
        "#print(df.WORK.value_counts(),\"\\n\")\n",
        "#print(df.STRUCTURE_TYPE.value_counts(), \"\\n\")\n",
        "#df"
      ]
    }
  ]
}